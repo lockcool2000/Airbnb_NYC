{
 "cells": [
  {
   "cell_type": "markdown",
   "metadata": {},
   "source": [
    "# 紐約 Airbnb 數據挖掘\n",
    "\n",
    "#### 自 2008 年以來，Airbnb 使遊客和房東出行更方便，提出更多個性化的體驗世界的方式\n",
    "#### 該數據集包含有關 2019 年紐約出租的資訊，以及包含其地理資訊、價格、評論數量等"
   ]
  },
  {
   "cell_type": "markdown",
   "metadata": {},
   "source": [
    "### 回答以下問題\n",
    "* 1.哪些區域生意最好，為什麼？\n",
    "* 2.哪些區域的流量比其他區域大，為什麼？\n",
    "* 3.價格，評論數量和預訂天數之間是否存在一些關係？"
   ]
  },
  {
   "cell_type": "code",
   "execution_count": 1,
   "metadata": {},
   "outputs": [
    {
     "name": "stdout",
     "output_type": "stream",
     "text": [
      "     id                                              name  host_id  \\\n",
      "0  2539                Clean & quiet apt home by the park     2787   \n",
      "1  2595                             Skylit Midtown Castle     2845   \n",
      "2  3647               THE VILLAGE OF HARLEM....NEW YORK !     4632   \n",
      "3  3831                   Cozy Entire Floor of Brownstone     4869   \n",
      "4  5022  Entire Apt: Spacious Studio/Loft by central park     7192   \n",
      "\n",
      "     host_name neighbourhood_group neighbourhood  latitude  longitude  \\\n",
      "0         John            Brooklyn    Kensington  40.64749  -73.97237   \n",
      "1     Jennifer           Manhattan       Midtown  40.75362  -73.98377   \n",
      "2    Elisabeth           Manhattan        Harlem  40.80902  -73.94190   \n",
      "3  LisaRoxanne            Brooklyn  Clinton Hill  40.68514  -73.95976   \n",
      "4        Laura           Manhattan   East Harlem  40.79851  -73.94399   \n",
      "\n",
      "         room_type  price  minimum_nights  number_of_reviews last_review  \\\n",
      "0     Private room    149               1                  9  2018-10-19   \n",
      "1  Entire home/apt    225               1                 45  2019-05-21   \n",
      "2     Private room    150               3                  0         NaN   \n",
      "3  Entire home/apt     89               1                270  2019-07-05   \n",
      "4  Entire home/apt     80              10                  9  2018-11-19   \n",
      "\n",
      "   reviews_per_month  calculated_host_listings_count  availability_365  \n",
      "0               0.21                               6               365  \n",
      "1               0.38                               2               355  \n",
      "2                NaN                               1               365  \n",
      "3               4.64                               1               194  \n",
      "4               0.10                               1                 0  \n"
     ]
    }
   ],
   "source": [
    "import pandas as pd\n",
    "import matplotlib.pyplot as plt\n",
    "\n",
    "# 顯示全部數據\n",
    "pd.set_option('display.max_columns', None) \n",
    "\n",
    "# 讀取檔案\n",
    "data=pd.read_csv('AB_NYC_2019.csv')\n",
    "\n",
    "# 前五筆資料\n",
    "print(data.head())"
   ]
  },
  {
   "cell_type": "code",
   "execution_count": 2,
   "metadata": {},
   "outputs": [
    {
     "name": "stdout",
     "output_type": "stream",
     "text": [
      "<class 'pandas.core.frame.DataFrame'>\n",
      "RangeIndex: 48895 entries, 0 to 48894\n",
      "Data columns (total 16 columns):\n",
      "id                                48895 non-null int64\n",
      "name                              48879 non-null object\n",
      "host_id                           48895 non-null int64\n",
      "host_name                         48874 non-null object\n",
      "neighbourhood_group               48895 non-null object\n",
      "neighbourhood                     48895 non-null object\n",
      "latitude                          48895 non-null float64\n",
      "longitude                         48895 non-null float64\n",
      "room_type                         48895 non-null object\n",
      "price                             48895 non-null int64\n",
      "minimum_nights                    48895 non-null int64\n",
      "number_of_reviews                 48895 non-null int64\n",
      "last_review                       38843 non-null object\n",
      "reviews_per_month                 38843 non-null float64\n",
      "calculated_host_listings_count    48895 non-null int64\n",
      "availability_365                  48895 non-null int64\n",
      "dtypes: float64(3), int64(7), object(6)\n",
      "memory usage: 6.0+ MB\n",
      "None\n"
     ]
    }
   ],
   "source": [
    "# 查看有無缺失值\n",
    "print(data.info())"
   ]
  },
  {
   "cell_type": "code",
   "execution_count": 3,
   "metadata": {},
   "outputs": [
    {
     "name": "stdout",
     "output_type": "stream",
     "text": [
      "<class 'pandas.core.frame.DataFrame'>\n",
      "RangeIndex: 48895 entries, 0 to 48894\n",
      "Data columns (total 16 columns):\n",
      "id                                48895 non-null int64\n",
      "name                              48895 non-null object\n",
      "host_id                           48895 non-null int64\n",
      "host_name                         48895 non-null object\n",
      "neighbourhood_group               48895 non-null object\n",
      "neighbourhood                     48895 non-null object\n",
      "latitude                          48895 non-null float64\n",
      "longitude                         48895 non-null float64\n",
      "room_type                         48895 non-null object\n",
      "price                             48895 non-null int64\n",
      "minimum_nights                    48895 non-null int64\n",
      "number_of_reviews                 48895 non-null int64\n",
      "last_review                       48895 non-null object\n",
      "reviews_per_month                 48895 non-null float64\n",
      "calculated_host_listings_count    48895 non-null int64\n",
      "availability_365                  48895 non-null int64\n",
      "dtypes: float64(3), int64(7), object(6)\n",
      "memory usage: 6.0+ MB\n",
      "None\n"
     ]
    }
   ],
   "source": [
    "#補缺失值 數字 轉成0  字符 轉成 nn\n",
    "data['reviews_per_month']=data['reviews_per_month'].fillna(0)\n",
    "\n",
    "o=['name','host_name','last_review',]\n",
    "data[o]=data[o].fillna('nn')\n",
    "\n",
    "print(data.info())"
   ]
  },
  {
   "cell_type": "code",
   "execution_count": 6,
   "metadata": {},
   "outputs": [
    {
     "data": {
      "text/plain": [
       "' \\n屬性說明:\\n    \\nid\\t\\nname 公寓名\\nhost_id\\t\\nhost_name 房東名\\nneighbourhood_group 哪個區\\nneighbourhood 區 裡的哪\\nlatitude 緯度\\t\\nlongitude 經度\\nroom_type \\t\\nprice\\t\\nminimum_nights 最少入住天數\\t\\nnumber_of_reviews 評論數\\nlast_review 最新評論日\\t\\nreviews_per_month 每月評論平均\\ncalculated_host_listings_count 屋主有幾套房\\t\\navailability_365 可預訂天數\\n'"
      ]
     },
     "execution_count": 6,
     "metadata": {},
     "output_type": "execute_result"
    }
   ],
   "source": [
    "''' \n",
    "屬性說明:\n",
    "    \n",
    "id\t\n",
    "name 公寓名\n",
    "host_id\t\n",
    "host_name 房東名\n",
    "neighbourhood_group 哪個區\n",
    "neighbourhood 區 裡的哪\n",
    "latitude 緯度\t\n",
    "longitude 經度\n",
    "room_type \t\n",
    "price\t\n",
    "minimum_nights 最少入住天數\t\n",
    "number_of_reviews 評論數\n",
    "last_review 最新評論日\t\n",
    "reviews_per_month 每月評論平均\n",
    "calculated_host_listings_count 屋主有幾套房\t\n",
    "availability_365 可預訂天數\n",
    "'''"
   ]
  },
  {
   "cell_type": "markdown",
   "metadata": {},
   "source": [
    "## 1. 哪些區域生意最好，為什麼?"
   ]
  },
  {
   "cell_type": "code",
   "execution_count": 14,
   "metadata": {},
   "outputs": [
    {
     "data": {
      "image/png": "[encoded data removed]",
      "text/plain": [
       "<Figure size 432x288 with 1 Axes>"
      ]
     },
     "metadata": {
      "needs_background": "light"
     },
     "output_type": "display_data"
    },
    {
     "name": "stdout",
     "output_type": "stream",
     "text": [
      "               neighbourhood_group\n",
      "Manhattan                    11385\n",
      "Brooklyn                     11070\n",
      "Queens                        2091\n",
      "Bronx                          308\n",
      "Staten Island                   74\n"
     ]
    }
   ],
   "source": [
    "# 生意好 = 可預訂天數少 \n",
    "# 從可預訂天數少的開始，再找出可能原因\n",
    "\n",
    "# 篩選出可預訂日子少於50天的 = 生意好\n",
    "day=50\n",
    "\n",
    "day_50=data.query('availability_365 <= @day')\n",
    "\n",
    "#顯示可能屬性\n",
    "#1. neighbourhood_group 哪個區\n",
    "fig = plt.figure()\n",
    "fig.set(alpha=0.2) \n",
    "\n",
    "dis = day_50.neighbourhood_group.value_counts().sort_values(ascending=False)\n",
    "dis.plot(kind='bar')\n",
    "plt.title(\"neighbourhood_group\")\n",
    "plt.ylabel('Number')\n",
    "plt.show()\n",
    "\n",
    "df = pd.DataFrame({'neighbourhood_group': dis})\n",
    "print(df)"
   ]
  },
  {
   "cell_type": "code",
   "execution_count": 49,
   "metadata": {},
   "outputs": [
    {
     "name": "stdout",
     "output_type": "stream",
     "text": [
      "                    neighbourhood\n",
      "Williamsburg                 2542\n",
      "Bedford-Stuyvesant           1794\n",
      "Bushwick                     1413\n",
      "Harlem                       1374\n",
      "East Village                 1212\n"
     ]
    }
   ],
   "source": [
    "#2. neighbourhood 區 裡的哪\n",
    "# fig = plt.figure()\n",
    "# fig.set(alpha=0.2) \n",
    "\n",
    "dis = day_50.neighbourhood.value_counts().sort_values(ascending=False)\n",
    "# dis.plot(kind='bar')\n",
    "# plt.title(\"neighbourhood\")\n",
    "# plt.ylabel('Number')\n",
    "# #plt.show()  \n",
    "# 資料太多，不顯示圖示\n",
    "\n",
    "df = pd.DataFrame({'neighbourhood': dis})  \n",
    "print(df.head())"
   ]
  },
  {
   "cell_type": "code",
   "execution_count": 16,
   "metadata": {},
   "outputs": [
    {
     "data": {
      "image/png": "[encoded data removed]",
      "text/plain": [
       "<Figure size 432x288 with 1 Axes>"
      ]
     },
     "metadata": {
      "needs_background": "light"
     },
     "output_type": "display_data"
    },
    {
     "name": "stdout",
     "output_type": "stream",
     "text": [
      "                 room_type\n",
      "Entire home/apt      13111\n",
      "Private room         11377\n",
      "Shared room            440\n"
     ]
    }
   ],
   "source": [
    "#3. room_type\n",
    "fig = plt.figure()\n",
    "fig.set(alpha=0.2) \n",
    "\n",
    "dis = day_50.room_type.value_counts().sort_values(ascending=False)\n",
    "dis.plot(kind='bar')\n",
    "plt.title(\"room_type\")\n",
    "plt.ylabel('Number')\n",
    "plt.show()\n",
    "\n",
    "df = pd.DataFrame({'room_type': dis})  \n",
    "print(df)"
   ]
  },
  {
   "cell_type": "code",
   "execution_count": 48,
   "metadata": {},
   "outputs": [
    {
     "name": "stdout",
     "output_type": "stream",
     "text": [
      "     price\n",
      "150   1200\n",
      "100   1195\n",
      "50     912\n",
      "200    820\n",
      "60     791\n"
     ]
    }
   ],
   "source": [
    "#4. price\n",
    "# fig = plt.figure()\n",
    "# fig.set(alpha=0.2) \n",
    "\n",
    "dis = day_50.price.value_counts().sort_values(ascending=False)\n",
    "# dis.plot(kind='bar')\n",
    "# plt.title(\"price\")\n",
    "# plt.ylabel('Number')\n",
    "# plt.show()\n",
    "# 資料太多，不顯示圖示\n",
    "\n",
    "df = pd.DataFrame({'price': dis})  \n",
    "print(df.head())"
   ]
  },
  {
   "cell_type": "code",
   "execution_count": 47,
   "metadata": {},
   "outputs": [
    {
     "name": "stdout",
     "output_type": "stream",
     "text": [
      "   number_of_reviews\n",
      "0               5880\n",
      "1               3412\n",
      "2               2250\n",
      "3               1585\n",
      "4               1184\n"
     ]
    }
   ],
   "source": [
    "#5. number_of_reviews\n",
    "# fig = plt.figure()\n",
    "# fig.set(alpha=0.2) \n",
    "\n",
    "dis = day_50.number_of_reviews.value_counts().sort_values(ascending=False)\n",
    "# dis.plot(kind='bar')\n",
    "# plt.title(\"number_of_reviews\")\n",
    "# plt.ylabel('Number')\n",
    "# plt.show()\n",
    "# 資料太多，不顯示圖示\n",
    "\n",
    "df = pd.DataFrame({'number_of_reviews': dis})  \n",
    "print(df.head())"
   ]
  },
  {
   "cell_type": "code",
   "execution_count": 46,
   "metadata": {},
   "outputs": [
    {
     "name": "stdout",
     "output_type": "stream",
     "text": [
      "   minimum_nights\n",
      "1            6468\n",
      "2            6035\n",
      "3            4363\n",
      "4            2030\n",
      "5            1931\n"
     ]
    }
   ],
   "source": [
    "#6. minimum_nights 最少入住天數\n",
    "# fig = plt.figure()\n",
    "# fig.set(alpha=0.2) \n",
    "\n",
    "dis = day_50.minimum_nights.value_counts().sort_values(ascending=False)\n",
    "# dis.plot(kind='bar')\n",
    "# plt.title(\"minimum_nights\")\n",
    "# plt.ylabel('Number')\n",
    "# plt.show()\n",
    "# 資料太多，不顯示圖示\n",
    "\n",
    "df = pd.DataFrame({'minimum_nights': dis})  \n",
    "print(df.head())"
   ]
  },
  {
   "cell_type": "markdown",
   "metadata": {},
   "source": [
    "### 以剩餘50天以下可預訂的區域\n",
    "* Manhattan與Brooklyn 區域最好\n",
    "* 區內的地理位置前五為 Williamsburg / Bedford-Stuyvesant / Bushwick / Harlem / East Village\n",
    "* 房型集中在 Entire home/apt 與 Private room\n",
    "* 價格在 150與100 最多 \n",
    "* 評論數量幾乎沒有評論\n",
    "* 最少入住天數為短天期 3天內最多"
   ]
  },
  {
   "cell_type": "markdown",
   "metadata": {},
   "source": [
    "### 由以上結果可以了解到:\n",
    "Manhattan 與 Brooklyn 是訂房最熱門的區域，區域內也有五大熱門地理位置受房客喜愛，住房的房型則為Entire home/apt 與 Private room 最受旅客青睞，定價價格在50至150最能讓大眾接受，房客偏向3天內的短天期住宿"
   ]
  },
  {
   "cell_type": "markdown",
   "metadata": {},
   "source": [
    "## 2. 哪些區域的流量比其他區域大，為什麼？\n",
    "#### 比較評論數大與評論數小的差異，找出其原因"
   ]
  },
  {
   "cell_type": "code",
   "execution_count": 21,
   "metadata": {},
   "outputs": [
    {
     "data": {
      "image/png": "[encoded data removed]",
      "text/plain": [
       "<Figure size 432x288 with 1 Axes>"
      ]
     },
     "metadata": {
      "needs_background": "light"
     },
     "output_type": "display_data"
    },
    {
     "name": "stdout",
     "output_type": "stream",
     "text": [
      "               neighbourhood_group\n",
      "Brooklyn                      1337\n",
      "Manhattan                     1230\n",
      "Queens                         376\n",
      "Bronx                           70\n",
      "Staten Island                   31\n"
     ]
    }
   ],
   "source": [
    "# 流量大 = 評論數多\n",
    "# 從評論數篩選找區域\n",
    "\n",
    "# 評論數>100流量 (評論數)\n",
    "reviews=100\n",
    "reviews_100=data.query('number_of_reviews >= @reviews')\n",
    "\n",
    "# 評論數<10流量 (評論數)\n",
    "reviews2=10\n",
    "reviews_10=data.query('number_of_reviews <= @reviews2')\n",
    "\n",
    "#1. neighbourhood_group 哪個區\n",
    "fig = plt.figure()\n",
    "fig.set(alpha=0.2) \n",
    "\n",
    "dis = reviews_100.neighbourhood_group.value_counts().sort_values(ascending=False)\n",
    "dis.plot(kind='bar')\n",
    "plt.title(\"neighbourhood_group\")\n",
    "plt.ylabel('Number')\n",
    "plt.show()\n",
    "\n",
    "df = pd.DataFrame({'neighbourhood_group': dis})  \n",
    "print(df)"
   ]
  },
  {
   "cell_type": "code",
   "execution_count": 22,
   "metadata": {},
   "outputs": [
    {
     "data": {
      "image/png": "[encoded data removed]",
      "text/plain": [
       "<Figure size 432x288 with 1 Axes>"
      ]
     },
     "metadata": {
      "needs_background": "light"
     },
     "output_type": "display_data"
    },
    {
     "name": "stdout",
     "output_type": "stream",
     "text": [
      "               neighbourhood_group\n",
      "Manhattan                    14213\n",
      "Brooklyn                     12206\n",
      "Queens                        3145\n",
      "Bronx                          584\n",
      "Staten Island                  175\n"
     ]
    }
   ],
   "source": [
    "#1. neighbourhood_group 哪個區\n",
    "fig = plt.figure()\n",
    "fig.set(alpha=0.2) \n",
    "\n",
    "dis = reviews_10.neighbourhood_group.value_counts().sort_values(ascending=False)\n",
    "dis.plot(kind='bar')\n",
    "plt.title(\"neighbourhood_group\")\n",
    "plt.ylabel('Number')\n",
    "plt.show()\n",
    "\n",
    "df = pd.DataFrame({'neighbourhood_group': dis})  \n",
    "print(df)"
   ]
  },
  {
   "cell_type": "code",
   "execution_count": 45,
   "metadata": {},
   "outputs": [
    {
     "name": "stdout",
     "output_type": "stream",
     "text": [
      "                    neighbourhood\n",
      "Bedford-Stuyvesant            346\n",
      "Williamsburg                  221\n",
      "Harlem                        206\n",
      "Hell's Kitchen                165\n",
      "Bushwick                      134\n"
     ]
    }
   ],
   "source": [
    "#2. neighbourhood 區 裡的哪\n",
    "# fig = plt.figure()\n",
    "# fig.set(alpha=0.2) \n",
    "dis = reviews_100.neighbourhood.value_counts().sort_values(ascending=False)\n",
    "# dis.plot(kind='bar')\n",
    "# plt.title(\"neighbourhood\")\n",
    "# plt.ylabel('Number')\n",
    "# plt.show()\n",
    "# 資料太多，不顯示圖示\n",
    "\n",
    "df = pd.DataFrame({'neighbourhood': dis})  \n",
    "print(df.head())"
   ]
  },
  {
   "cell_type": "code",
   "execution_count": 44,
   "metadata": {},
   "outputs": [
    {
     "name": "stdout",
     "output_type": "stream",
     "text": [
      "                    neighbourhood\n",
      "Williamsburg                 2542\n",
      "Bedford-Stuyvesant           2038\n",
      "Bushwick                     1601\n",
      "Harlem                       1456\n",
      "Upper West Side              1355\n"
     ]
    }
   ],
   "source": [
    "#2. neighbourhood 區 裡的哪\n",
    "# fig = plt.figure()\n",
    "# fig.set(alpha=0.2) \n",
    "dis = reviews_10.neighbourhood.value_counts().sort_values(ascending=False)\n",
    "# dis.plot(kind='bar')\n",
    "# plt.title(\"neighbourhood\")\n",
    "# plt.ylabel('Number')\n",
    "# plt.show()\n",
    "# 資料太多，不顯示圖示\n",
    "\n",
    "df = pd.DataFrame({'neighbourhood': dis})  \n",
    "print(df.head())"
   ]
  },
  {
   "cell_type": "code",
   "execution_count": 28,
   "metadata": {},
   "outputs": [
    {
     "data": {
      "image/png": "[encoded data removed]",
      "text/plain": [
       "<Figure size 432x288 with 1 Axes>"
      ]
     },
     "metadata": {
      "needs_background": "light"
     },
     "output_type": "display_data"
    },
    {
     "name": "stdout",
     "output_type": "stream",
     "text": [
      "                 room_type\n",
      "Entire home/apt       1569\n",
      "Private room          1428\n",
      "Shared room             47\n"
     ]
    }
   ],
   "source": [
    "#3. room_type\n",
    "fig = plt.figure()\n",
    "fig.set(alpha=0.2) \n",
    "\n",
    "dis = reviews_100.room_type.value_counts().sort_values(ascending=False)\n",
    "\n",
    "dis.plot(kind='bar')\n",
    "plt.title(\"room_type\")\n",
    "plt.ylabel('Number')\n",
    "plt.show()\n",
    "\n",
    "df = pd.DataFrame({'room_type': dis}) \n",
    "print(df)"
   ]
  },
  {
   "cell_type": "code",
   "execution_count": 29,
   "metadata": {},
   "outputs": [
    {
     "data": {
      "image/png": "[encoded data removed]",
      "text/plain": [
       "<Figure size 432x288 with 1 Axes>"
      ]
     },
     "metadata": {
      "needs_background": "light"
     },
     "output_type": "display_data"
    },
    {
     "name": "stdout",
     "output_type": "stream",
     "text": [
      "                 room_type\n",
      "Entire home/apt      15822\n",
      "Private room         13718\n",
      "Shared room            783\n"
     ]
    }
   ],
   "source": [
    "#3. room_type\n",
    "fig = plt.figure()\n",
    "fig.set(alpha=0.2) \n",
    "\n",
    "dis = reviews_10.room_type.value_counts().sort_values(ascending=False)\n",
    "\n",
    "dis.plot(kind='bar')\n",
    "plt.title(\"room_type\")\n",
    "plt.ylabel('Number')\n",
    "plt.show()\n",
    "\n",
    "df = pd.DataFrame({'room_type': dis}) \n",
    "print(df)"
   ]
  },
  {
   "cell_type": "code",
   "execution_count": 34,
   "metadata": {},
   "outputs": [
    {
     "name": "stdout",
     "output_type": "stream",
     "text": [
      "     price\n",
      "100     99\n",
      "150     84\n",
      "99      82\n",
      "75      81\n",
      "125     81\n"
     ]
    }
   ],
   "source": [
    "# #4. price\n",
    "# fig = plt.figure()\n",
    "# fig.set(alpha=0.2) \n",
    "dis = reviews_100.price.value_counts().sort_values(ascending=False)\n",
    "# dis.plot(kind='bar')\n",
    "# plt.title(\"price\")\n",
    "# plt.ylabel('Number')\n",
    "# plt.show()\n",
    "# 資料太多，不顯示圖示\n",
    "\n",
    "df = pd.DataFrame({'price': dis})  \n",
    "print(df.head())"
   ]
  },
  {
   "cell_type": "code",
   "execution_count": 33,
   "metadata": {},
   "outputs": [
    {
     "name": "stdout",
     "output_type": "stream",
     "text": [
      "     price\n",
      "150   1369\n",
      "100   1369\n",
      "50    1026\n",
      "200    997\n",
      "60     915\n"
     ]
    }
   ],
   "source": [
    "# #4. price\n",
    "# fig = plt.figure()\n",
    "# fig.set(alpha=0.2) \n",
    "dis = reviews_10.price.value_counts().sort_values(ascending=False)\n",
    "# dis.plot(kind='bar')\n",
    "# plt.title(\"price\")\n",
    "# plt.ylabel('Number')\n",
    "# plt.show()\n",
    "# 資料太多，不顯示圖示\n",
    "\n",
    "df = pd.DataFrame({'price': dis})  \n",
    "print(df.head())"
   ]
  },
  {
   "cell_type": "code",
   "execution_count": 32,
   "metadata": {},
   "outputs": [
    {
     "name": "stdout",
     "output_type": "stream",
     "text": [
      "         host_name\n",
      "Michael         33\n",
      "Jason           27\n",
      "John            18\n",
      "Alex            18\n",
      "Chris           17\n"
     ]
    }
   ],
   "source": [
    "# #5. host_name\n",
    "# fig = plt.figure()\n",
    "# fig.set(alpha=0.2) \n",
    "dis = reviews_100.host_name.value_counts().sort_values(ascending=False)\n",
    "# dis.plot(kind='bar')\n",
    "# plt.title(\"host_name\")\n",
    "# plt.ylabel('Number')\n",
    "# plt.show()\n",
    "# 資料太多，不顯示圖示\n",
    "\n",
    "df = pd.DataFrame({'host_name': dis}) \n",
    "print(df.head())"
   ]
  },
  {
   "cell_type": "code",
   "execution_count": 35,
   "metadata": {},
   "outputs": [
    {
     "name": "stdout",
     "output_type": "stream",
     "text": [
      "              host_name\n",
      "Sonder (NYC)        301\n",
      "David               255\n",
      "Michael             252\n",
      "Blueground          232\n",
      "John                176\n"
     ]
    }
   ],
   "source": [
    "# #5. host_name\n",
    "# fig = plt.figure()\n",
    "# fig.set(alpha=0.2) \n",
    "dis = reviews_10.host_name.value_counts().sort_values(ascending=False)\n",
    "# dis.plot(kind='bar')\n",
    "# plt.title(\"host_name\")\n",
    "# plt.ylabel('Number')\n",
    "# plt.show()\n",
    "# 資料太多，不顯示圖示\n",
    "\n",
    "df = pd.DataFrame({'host_name': dis}) \n",
    "print(df.head())"
   ]
  },
  {
   "cell_type": "code",
   "execution_count": 40,
   "metadata": {},
   "outputs": [
    {
     "name": "stdout",
     "output_type": "stream",
     "text": [
      "   minimum_nights\n",
      "1            1126\n",
      "2             979\n",
      "3             570\n",
      "4             167\n",
      "5              85\n"
     ]
    }
   ],
   "source": [
    "#6. minimum_nights 最少入住天數\n",
    "# fig = plt.figure()\n",
    "# fig.set(alpha=0.2) \n",
    "dis = reviews_100.minimum_nights.value_counts().sort_values(ascending=False)\n",
    "# dis.plot(kind='bar')\n",
    "# plt.title(\"minimum_nights\")\n",
    "# plt.ylabel('Number')\n",
    "# plt.show()\n",
    "# 資料太多，不顯示圖示\n",
    "\n",
    "df = pd.DataFrame({'minimum_nights': dis})  \n",
    "print(df.head())"
   ]
  },
  {
   "cell_type": "code",
   "execution_count": 41,
   "metadata": {},
   "outputs": [
    {
     "name": "stdout",
     "output_type": "stream",
     "text": [
      "    minimum_nights\n",
      "1             7564\n",
      "2             5970\n",
      "3             4567\n",
      "30            3161\n",
      "5             2069\n"
     ]
    }
   ],
   "source": [
    "#6. minimum_nights 最少入住天數\n",
    "# fig = plt.figure()\n",
    "# fig.set(alpha=0.2) \n",
    "dis = reviews_10.minimum_nights.value_counts().sort_values(ascending=False)\n",
    "# dis.plot(kind='bar')\n",
    "# plt.title(\"minimum_nights\")\n",
    "# plt.ylabel('Number')\n",
    "# plt.show()\n",
    "# 資料太多，不顯示圖示\n",
    "\n",
    "df = pd.DataFrame({'minimum_nights': dis})  \n",
    "print(df.head())"
   ]
  },
  {
   "cell_type": "code",
   "execution_count": 50,
   "metadata": {},
   "outputs": [
    {
     "data": {
      "image/png": "[encoded data removed]",
      "text/plain": [
       "<Figure size 432x288 with 1 Axes>"
      ]
     },
     "metadata": {
      "needs_background": "light"
     },
     "output_type": "display_data"
    },
    {
     "name": "stdout",
     "output_type": "stream",
     "text": [
      "   calculated_host_listings_count\n",
      "1                            1693\n",
      "2                             693\n",
      "3                             289\n",
      "4                             157\n",
      "5                              86\n"
     ]
    }
   ],
   "source": [
    "#7. calculated_host_listings_count 屋主有幾套房\n",
    "fig = plt.figure()\n",
    "fig.set(alpha=0.2) \n",
    "dis = reviews_100.calculated_host_listings_count.value_counts().sort_values(ascending=False)\n",
    "dis.plot(kind='bar')\n",
    "plt.title(\"calculated_host_listings_count\")\n",
    "plt.ylabel('Number')\n",
    "plt.show()\n",
    "\n",
    "df = pd.DataFrame({'calculated_host_listings_count': dis}) \n",
    "print(df.head())"
   ]
  },
  {
   "cell_type": "code",
   "execution_count": 51,
   "metadata": {},
   "outputs": [
    {
     "data": {
      "image/png": "[encoded data removed]",
      "text/plain": [
       "<Figure size 432x288 with 1 Axes>"
      ]
     },
     "metadata": {
      "needs_background": "light"
     },
     "output_type": "display_data"
    },
    {
     "name": "stdout",
     "output_type": "stream",
     "text": [
      "   calculated_host_listings_count\n",
      "1                           21076\n",
      "2                            3276\n",
      "3                            1292\n",
      "4                             609\n",
      "5                             384\n"
     ]
    }
   ],
   "source": [
    "#7. calculated_host_listings_count 屋主有幾套房\n",
    "fig = plt.figure()\n",
    "fig.set(alpha=0.2) \n",
    "dis = reviews_10.calculated_host_listings_count.value_counts().sort_values(ascending=False)\n",
    "dis.plot(kind='bar')\n",
    "plt.title(\"calculated_host_listings_count\")\n",
    "plt.ylabel('Number')\n",
    "plt.show()\n",
    "\n",
    "df = pd.DataFrame({'calculated_host_listings_count': dis}) \n",
    "print(df.head())"
   ]
  },
  {
   "cell_type": "markdown",
   "metadata": {},
   "source": [
    "### 評論數大於100與評論數小於100的比較，並無明顯差異\n",
    "### 嘗試使用評論數大於100的區域最多與最少來做比較"
   ]
  },
  {
   "cell_type": "code",
   "execution_count": 53,
   "metadata": {},
   "outputs": [
    {
     "data": {
      "image/png": "[encoded data removed]",
      "text/plain": [
       "<Figure size 432x288 with 1 Axes>"
      ]
     },
     "metadata": {
      "needs_background": "light"
     },
     "output_type": "display_data"
    },
    {
     "name": "stdout",
     "output_type": "stream",
     "text": [
      "                 neighbourhood\n",
      "Harlem                    2658\n",
      "Upper West Side           1971\n",
      "Hell's Kitchen            1958\n",
      "East Village              1853\n",
      "Upper East Side           1798\n"
     ]
    }
   ],
   "source": [
    "data_tg3=data.query(\"neighbourhood_group =='Manhattan'\")\n",
    "\n",
    "data_tg4=data.query(\"neighbourhood_group =='Staten Island'\")\n",
    "\n",
    "#2. neighbourhood 區 裡的哪\n",
    "fig = plt.figure()\n",
    "fig.set(alpha=0.2) \n",
    "\n",
    "dis = data_tg3.neighbourhood.value_counts().sort_values(ascending=False)\n",
    "\n",
    "dis.plot(kind='bar')\n",
    "plt.title(\"neighbourhood\")\n",
    "plt.ylabel('Number')\n",
    "plt.show()\n",
    "\n",
    "df = pd.DataFrame({'neighbourhood': dis})  \n",
    "print(df.head())"
   ]
  },
  {
   "cell_type": "code",
   "execution_count": 54,
   "metadata": {},
   "outputs": [
    {
     "data": {
      "image/png": "[encoded data removed]",
      "text/plain": [
       "<Figure size 432x288 with 1 Axes>"
      ]
     },
     "metadata": {
      "needs_background": "light"
     },
     "output_type": "display_data"
    },
    {
     "name": "stdout",
     "output_type": "stream",
     "text": [
      "               neighbourhood\n",
      "St. George                48\n",
      "Tompkinsville             42\n",
      "Stapleton                 27\n",
      "Concord                   26\n",
      "Arrochar                  21\n"
     ]
    }
   ],
   "source": [
    "#2. neighbourhood 區 裡的哪\n",
    "fig = plt.figure()\n",
    "fig.set(alpha=0.2) \n",
    "\n",
    "dis = data_tg4.neighbourhood.value_counts().sort_values(ascending=False)\n",
    "\n",
    "dis.plot(kind='bar')\n",
    "plt.title(\"neighbourhood\")\n",
    "plt.ylabel('Number')\n",
    "plt.show()\n",
    "\n",
    "df = pd.DataFrame({'neighbourhood': dis})  \n",
    "print(df.head())"
   ]
  },
  {
   "cell_type": "code",
   "execution_count": 55,
   "metadata": {},
   "outputs": [
    {
     "data": {
      "image/png": "[encoded data removed]",
      "text/plain": [
       "<Figure size 432x288 with 1 Axes>"
      ]
     },
     "metadata": {
      "needs_background": "light"
     },
     "output_type": "display_data"
    },
    {
     "name": "stdout",
     "output_type": "stream",
     "text": [
      "                 room_type\n",
      "Entire home/apt      13199\n",
      "Private room          7982\n",
      "Shared room            480\n"
     ]
    }
   ],
   "source": [
    "#3. room_type\n",
    "fig = plt.figure()\n",
    "fig.set(alpha=0.2) \n",
    "\n",
    "dis = data_tg3.room_type.value_counts().sort_values(ascending=False)\n",
    "\n",
    "dis.plot(kind='bar')\n",
    "plt.title(\"room_type\")\n",
    "plt.ylabel('Number')\n",
    "plt.show()\n",
    "\n",
    "df = pd.DataFrame({'room_type': dis}) \n",
    "print(df)"
   ]
  },
  {
   "cell_type": "code",
   "execution_count": 56,
   "metadata": {},
   "outputs": [
    {
     "data": {
      "image/png": "[encoded data removed]",
      "text/plain": [
       "<Figure size 432x288 with 1 Axes>"
      ]
     },
     "metadata": {
      "needs_background": "light"
     },
     "output_type": "display_data"
    },
    {
     "name": "stdout",
     "output_type": "stream",
     "text": [
      "                 room_type\n",
      "Private room           188\n",
      "Entire home/apt        176\n",
      "Shared room              9\n"
     ]
    }
   ],
   "source": [
    "#3. room_type\n",
    "fig = plt.figure()\n",
    "fig.set(alpha=0.2) \n",
    "\n",
    "dis = data_tg4.room_type.value_counts().sort_values(ascending=False)\n",
    "\n",
    "dis.plot(kind='bar')\n",
    "plt.title(\"room_type\")\n",
    "plt.ylabel('Number')\n",
    "plt.show()\n",
    "\n",
    "df = pd.DataFrame({'room_type': dis}) \n",
    "print(df)"
   ]
  },
  {
   "cell_type": "code",
   "execution_count": 57,
   "metadata": {},
   "outputs": [
    {
     "name": "stdout",
     "output_type": "stream",
     "text": [
      "     price\n",
      "150   1052\n",
      "100    885\n",
      "200    819\n",
      "250    647\n",
      "120    503\n"
     ]
    }
   ],
   "source": [
    "# #4. price\n",
    "# fig = plt.figure()\n",
    "# fig.set(alpha=0.2) \n",
    "dis = data_tg3.price.value_counts().sort_values(ascending=False)\n",
    "# dis.plot(kind='bar')\n",
    "# plt.title(\"price\")\n",
    "# plt.ylabel('Number')\n",
    "# plt.show()\n",
    "# 資料太多，不顯示圖示\n",
    "\n",
    "df = pd.DataFrame({'price': dis})  \n",
    "print(df.head())"
   ]
  },
  {
   "cell_type": "code",
   "execution_count": 58,
   "metadata": {},
   "outputs": [
    {
     "name": "stdout",
     "output_type": "stream",
     "text": [
      "     price\n",
      "75      21\n",
      "100     21\n",
      "50      19\n",
      "40      15\n",
      "65      14\n"
     ]
    }
   ],
   "source": [
    "# #4. price\n",
    "# fig = plt.figure()\n",
    "# fig.set(alpha=0.2) \n",
    "dis = data_tg4.price.value_counts().sort_values(ascending=False)\n",
    "# dis.plot(kind='bar')\n",
    "# plt.title(\"price\")\n",
    "# plt.ylabel('Number')\n",
    "# plt.show()\n",
    "# 資料太多，不顯示圖示\n",
    "\n",
    "df = pd.DataFrame({'price': dis})  \n",
    "print(df.head())"
   ]
  },
  {
   "cell_type": "code",
   "execution_count": 59,
   "metadata": {},
   "outputs": [
    {
     "name": "stdout",
     "output_type": "stream",
     "text": [
      "              host_name\n",
      "Sonder (NYC)        327\n",
      "Blueground          230\n",
      "Michael             212\n",
      "David               202\n",
      "John                151\n"
     ]
    }
   ],
   "source": [
    "# #5. host_name\n",
    "# fig = plt.figure()\n",
    "# fig.set(alpha=0.2) \n",
    "dis = data_tg3.host_name.value_counts().sort_values(ascending=False)\n",
    "# dis.plot(kind='bar')\n",
    "# plt.title(\"host_name\")\n",
    "# plt.ylabel('Number')\n",
    "# plt.show()\n",
    "# 資料太多，不顯示圖示\n",
    "\n",
    "df = pd.DataFrame({'host_name': dis})  \n",
    "print(df.head())"
   ]
  },
  {
   "cell_type": "code",
   "execution_count": 60,
   "metadata": {},
   "outputs": [
    {
     "name": "stdout",
     "output_type": "stream",
     "text": [
      "            host_name\n",
      "Maria               9\n",
      "Amarjit S           8\n",
      "Marina              8\n",
      "Nina                7\n",
      "Simranjeet          7\n"
     ]
    }
   ],
   "source": [
    "# #5. host_name\n",
    "# fig = plt.figure()\n",
    "# fig.set(alpha=0.2) \n",
    "dis = data_tg4.host_name.value_counts().sort_values(ascending=False)\n",
    "# dis.plot(kind='bar')\n",
    "# plt.title(\"host_name\")\n",
    "# plt.ylabel('Number')\n",
    "# plt.show()\n",
    "# 資料太多，不顯示圖示\n",
    "\n",
    "df = pd.DataFrame({'host_name': dis})  \n",
    "print(df.head())"
   ]
  },
  {
   "cell_type": "code",
   "execution_count": 63,
   "metadata": {},
   "outputs": [
    {
     "name": "stdout",
     "output_type": "stream",
     "text": [
      "    minimum_nights\n",
      "1             5418\n",
      "2             4506\n",
      "3             3463\n",
      "30            2399\n",
      "4             1508\n"
     ]
    }
   ],
   "source": [
    "# #6. minimum_nights 最少入住天數\n",
    "# fig = plt.figure()\n",
    "# fig.set(alpha=0.2) \n",
    "dis = data_tg3.minimum_nights.value_counts().sort_values(ascending=False)\n",
    "# dis.plot(kind='bar')\n",
    "# plt.title(\"minimum_nights\")\n",
    "# plt.ylabel('Number')\n",
    "# plt.show()\n",
    "# 資料太多，不顯示圖示\n",
    "\n",
    "df = pd.DataFrame({'minimum_nights': dis})  \n",
    "print(df.head())"
   ]
  },
  {
   "cell_type": "code",
   "execution_count": 64,
   "metadata": {},
   "outputs": [
    {
     "name": "stdout",
     "output_type": "stream",
     "text": [
      "    minimum_nights\n",
      "2              122\n",
      "1              112\n",
      "3               46\n",
      "4               45\n",
      "30              15\n"
     ]
    }
   ],
   "source": [
    "# #6. minimum_nights 最少入住天數\n",
    "# fig = plt.figure()\n",
    "# fig.set(alpha=0.2) \n",
    "dis = data_tg4.minimum_nights.value_counts().sort_values(ascending=False)\n",
    "# dis.plot(kind='bar')\n",
    "# plt.title(\"minimum_nights\")\n",
    "# plt.ylabel('Number')\n",
    "# plt.show()\n",
    "# 資料太多，不顯示圖示\n",
    "\n",
    "df = pd.DataFrame({'minimum_nights': dis})  \n",
    "print(df.head())"
   ]
  },
  {
   "cell_type": "code",
   "execution_count": 65,
   "metadata": {},
   "outputs": [
    {
     "data": {
      "image/png": "[encoded data removed]",
      "text/plain": [
       "<Figure size 432x288 with 1 Axes>"
      ]
     },
     "metadata": {
      "needs_background": "light"
     },
     "output_type": "display_data"
    },
    {
     "name": "stdout",
     "output_type": "stream",
     "text": [
      "     calculated_host_listings_count\n",
      "1                             14762\n",
      "2                              2261\n",
      "3                               993\n",
      "4                               452\n",
      "327                             327\n"
     ]
    }
   ],
   "source": [
    "#7. calculated_host_listings_count 屋主有幾套房\n",
    "fig = plt.figure()\n",
    "fig.set(alpha=0.2) \n",
    "\n",
    "dis = data_tg3.calculated_host_listings_count.value_counts().sort_values(ascending=False)\n",
    "\n",
    "dis.plot(kind='bar')\n",
    "plt.title(\"calculated_host_listings_count\")\n",
    "plt.ylabel('Number')\n",
    "plt.show()\n",
    "\n",
    "df = pd.DataFrame({'calculated_host_listings_count': dis})  \n",
    "print(df.head())"
   ]
  },
  {
   "cell_type": "code",
   "execution_count": 66,
   "metadata": {},
   "outputs": [
    {
     "data": {
      "image/png": "[encoded data removed]",
      "text/plain": [
       "<Figure size 432x288 with 1 Axes>"
      ]
     },
     "metadata": {
      "needs_background": "light"
     },
     "output_type": "display_data"
    },
    {
     "name": "stdout",
     "output_type": "stream",
     "text": [
      "   calculated_host_listings_count\n",
      "1                             198\n",
      "3                              62\n",
      "2                              50\n",
      "7                              21\n",
      "4                              12\n"
     ]
    }
   ],
   "source": [
    "#7. calculated_host_listings_count 屋主有幾套房\n",
    "fig = plt.figure()\n",
    "fig.set(alpha=0.2) \n",
    "\n",
    "dis = data_tg4.calculated_host_listings_count.value_counts().sort_values(ascending=False)\n",
    "\n",
    "dis.plot(kind='bar')\n",
    "plt.title(\"calculated_host_listings_count\")\n",
    "plt.ylabel('Number')\n",
    "plt.show()\n",
    "\n",
    "df = pd.DataFrame({'calculated_host_listings_count': dis})  \n",
    "print(df.head())"
   ]
  },
  {
   "cell_type": "markdown",
   "metadata": {},
   "source": [
    "### 討論數差異的可能原因:\n",
    "* 區域的不同與地理位置的不同影響討論數\n",
    "* 房東也是影響因素，主觀對房東的感受也會影響\n",
    "* 至於房型、價格、最少入住日則無顯著關係"
   ]
  },
  {
   "cell_type": "markdown",
   "metadata": {},
   "source": [
    "## 3.價格，評論數量和預訂天數之間是否存在一些關係？"
   ]
  },
  {
   "cell_type": "code",
   "execution_count": 67,
   "metadata": {},
   "outputs": [
    {
     "data": {
      "image/png": "[encoded data removed]",
      "text/plain": [
       "<Figure size 432x288 with 2 Axes>"
      ]
     },
     "metadata": {},
     "output_type": "display_data"
    }
   ],
   "source": [
    "import seaborn as sns\n",
    "\n",
    "# all屬性相關性\n",
    "corr=data.corr()\n",
    "\n",
    "# 畫關係圖 格線顏色\n",
    "sns.set_style('whitegrid')\n",
    "\n",
    "# 關係圖 顏色深 關係大\n",
    "sns.heatmap(corr,cmap='YlGnBu')\n",
    "\n",
    "plt.show()"
   ]
  },
  {
   "cell_type": "code",
   "execution_count": 68,
   "metadata": {},
   "outputs": [
    {
     "data": {
      "image/png": "[encoded data removed]",
      "text/plain": [
       "<Figure size 432x288 with 2 Axes>"
      ]
     },
     "metadata": {},
     "output_type": "display_data"
    }
   ],
   "source": [
    "# 3屬性相關性: 價格，評論數量和預訂天數\n",
    "th=['price','number_of_reviews','availability_365']\n",
    "data3=data[th]\n",
    "\n",
    "corr3=data3.corr()\n",
    "\n",
    "sns.set_style('whitegrid')\n",
    "\n",
    "sns.heatmap(corr3,cmap='YlGnBu')\n",
    "\n",
    "plt.show()"
   ]
  },
  {
   "cell_type": "markdown",
   "metadata": {},
   "source": [
    "### 由上圖顯示，價格，評論數量和預訂天數之間並沒有顯著相關"
   ]
  }
 ],
 "metadata": {
  "kernelspec": {
   "display_name": "Python 3",
   "language": "python",
   "name": "python3"
  },
  "language_info": {
   "codemirror_mode": {
    "name": "ipython",
    "version": 3
   },
   "file_extension": ".py",
   "mimetype": "text/x-python",
   "name": "python",
   "nbconvert_exporter": "python",
   "pygments_lexer": "ipython3",
   "version": "3.5.2"
  }
 },
 "nbformat": 4,
 "nbformat_minor": 2
}
